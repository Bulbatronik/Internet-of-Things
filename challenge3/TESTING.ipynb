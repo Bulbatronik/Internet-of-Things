{
 "cells": [
  {
   "cell_type": "code",
   "execution_count": 19,
   "id": "b442fcc0",
   "metadata": {},
   "outputs": [],
   "source": [
    "import math\n",
    "MY_ID = 10816982\n",
    "remainder = 0"
   ]
  },
  {
   "cell_type": "code",
   "execution_count": 20,
   "id": "9ec5efd4",
   "metadata": {},
   "outputs": [
    {
     "name": "stdout",
     "output_type": "stream",
     "text": [
      "2\n",
      "2\n",
      "2\n",
      "2\n",
      "0\n",
      "0\n",
      "0\n",
      "2\n",
      "1\n",
      "0\n",
      "0\n",
      "1\n",
      "2\n",
      "0\n",
      "2\n",
      "Done\n"
     ]
    }
   ],
   "source": [
    "while True:\n",
    "    if (MY_ID==0):\n",
    "        print(\"Done\")\n",
    "        break\n",
    "    remainder = MY_ID % 3\n",
    "    MY_ID = math.floor(MY_ID/3)\n",
    "    if (remainder == 0):\n",
    "        print(\"0\")\n",
    "    elif (remainder == 1):\n",
    "        print(\"1\")\n",
    "    elif (remainder == 2):\n",
    "        print(\"2\")"
   ]
  },
  {
   "cell_type": "code",
   "execution_count": null,
   "id": "597577dd",
   "metadata": {},
   "outputs": [],
   "source": [
    "\"202100120002222\""
   ]
  }
 ],
 "metadata": {
  "kernelspec": {
   "display_name": "Python 3 (ipykernel)",
   "language": "python",
   "name": "python3"
  },
  "language_info": {
   "codemirror_mode": {
    "name": "ipython",
    "version": 3
   },
   "file_extension": ".py",
   "mimetype": "text/x-python",
   "name": "python",
   "nbconvert_exporter": "python",
   "pygments_lexer": "ipython3",
   "version": "3.9.7"
  }
 },
 "nbformat": 4,
 "nbformat_minor": 5
}
